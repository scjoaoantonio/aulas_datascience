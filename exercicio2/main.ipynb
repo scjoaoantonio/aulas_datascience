{
 "cells": [
  {
   "cell_type": "code",
   "execution_count": 7,
   "metadata": {},
   "outputs": [],
   "source": [
    "import pandas as pd\n",
    "import seaborn as sns\n",
    "import matplotlib.pyplot as plt"
   ]
  },
  {
   "cell_type": "markdown",
   "metadata": {},
   "source": [
    "# PRÁTICA 1\n",
    "\n",
    "Inspecione as primeiras linhas e obtenha informacoes gerais sobre o dataset, como tipos de dados e valores ausentes. Em seguida calcule a distribui ̧cao de Notas por Categoria, use groupby para agrupar os dados por uma vari ́avel categ ́orica de seu interesse e calcule a media e o desvio padr ̃ao das notas dos alunos. Compare as Categorias criando uma comparacao entre as medias das notas, ordenando o resultado para identificar quais grupos possuem melhor desempenho medio.\n"
   ]
  },
  {
   "cell_type": "code",
   "execution_count": null,
   "metadata": {},
   "outputs": [],
   "source": [
    "#leitura\n",
    "student_df = pd.read_csv('StudentPerformanceFactors.csv')\n",
    "\n",
    "#teste\n",
    "print(student_df)"
   ]
  },
  {
   "cell_type": "code",
   "execution_count": null,
   "metadata": {},
   "outputs": [],
   "source": [
    "print(\"Primeiras linhas do dataset:\")\n",
    "print(student_df.head())"
   ]
  },
  {
   "cell_type": "code",
   "execution_count": null,
   "metadata": {},
   "outputs": [],
   "source": [
    "print(\"\\nInformações gerais do dataset:\")\n",
    "print(student_df.info())"
   ]
  },
  {
   "cell_type": "code",
   "execution_count": null,
   "metadata": {},
   "outputs": [],
   "source": [
    "print(\"\\nQuantidade de valores ausentes por coluna:\")\n",
    "print(student_df.isnull().sum())"
   ]
  },
  {
   "cell_type": "code",
   "execution_count": null,
   "metadata": {},
   "outputs": [],
   "source": [
    "categoria_coluna = 'Physical_Activity'\n",
    "nota_coluna = 'Exam_Score'\n",
    "\n",
    "# Agrupar os dados por categoria e calcular a média e o desvio padrão das notas\n",
    "grupo_estatisticas = student_df.groupby(categoria_coluna)[nota_coluna].agg(['mean', 'std']).reset_index()\n",
    "\n",
    "# Ordenar por desempenho médio das notas (da maior para a menor média)\n",
    "grupo_estatisticas_ordenado = grupo_estatisticas.sort_values(by='mean', ascending=False)\n",
    "\n",
    "# Exibir o resultado\n",
    "print(f\"\\nDesempenho médio das notas de acordo com {categoria_coluna}:\")\n",
    "print(grupo_estatisticas_ordenado)"
   ]
  },
  {
   "cell_type": "markdown",
   "metadata": {},
   "source": [
    "# PRÁTICA 2\n",
    "\n",
    "Faça uma correlação entre fatores e desempenho. Para isso, agrupe os dados por uma variável categórica, como “Tipo de Curso” ou “Horário de Estudo”, e analise como essas variáveis influenciam as notas dos alunos. Utilize o método agg para obter múltiplas estatísticas (média, mediana e contagem de alunos). Visualize esses resultados com gráficos, como box plots ou gráficos de barras, para evidenciar as diferenças entre os grupos.\n",
    "\n",
    "Crie um filtro para encontrar grupos de alunos que atendam a determinadas condições (ex.: alunos com média superior a um valor específico e em uma categoria específica). Utilize o método filter para identificar grupos que atendam a uma condição personalizada (ex.: cursos com mais de 20 alunos que possuam média de desempenho superior a uma determinada nota)."
   ]
  },
  {
   "cell_type": "code",
   "execution_count": 17,
   "metadata": {},
   "outputs": [],
   "source": [
    "# Carregar o dataset\n",
    "data = pd.read_csv('StudentPerformanceFactors.csv')"
   ]
  },
  {
   "cell_type": "code",
   "execution_count": 18,
   "metadata": {},
   "outputs": [],
   "source": [
    "\n",
    "# Definir as colunas para análise\n",
    "categoria_coluna = 'Hours_Studied'  # Substitua pelo nome da coluna categórica desejada\n",
    "nota_coluna = 'Exam_Score'\n",
    "\n",
    "# Agrupar os dados pela variável categórica e calcular múltiplas estatísticas\n",
    "grupo_estatisticas = data.groupby(categoria_coluna)[nota_coluna].agg(['mean', 'median', 'count']).reset_index()\n"
   ]
  },
  {
   "cell_type": "code",
   "execution_count": null,
   "metadata": {},
   "outputs": [],
   "source": [
    "# Visualizar os resultados com gráficos\n",
    "# Gráfico de barras mostrando a média das notas por categoria\n",
    "plt.figure(figsize=(10, 6))\n",
    "sns.barplot(data=grupo_estatisticas, x=categoria_coluna, y='mean')\n",
    "plt.title(f'Média das Notas por {categoria_coluna}')\n",
    "plt.xlabel(categoria_coluna)\n",
    "plt.ylabel('Média das Notas')\n",
    "plt.xticks(rotation=45)\n",
    "plt.show()\n",
    "\n",
    "# Box plot para mostrar a distribuição das notas em cada categoria\n",
    "plt.figure(figsize=(10, 6))\n",
    "sns.boxplot(data=data, x=categoria_coluna, y=nota_coluna)\n",
    "plt.title(f'Distribuição das Notas por {categoria_coluna}')\n",
    "plt.xlabel(categoria_coluna)\n",
    "plt.ylabel('Notas')\n",
    "plt.xticks(rotation=45)\n",
    "plt.show()"
   ]
  },
  {
   "cell_type": "code",
   "execution_count": null,
   "metadata": {},
   "outputs": [],
   "source": [
    "# Exemplo: Grupos com média de notas superior a um valor específico e com uma quantidade mínima de alunos\n",
    "media_minima = 60\n",
    "quantidade_minima = 10\n",
    "\n",
    "# Filtrar grupos que atendem às condições\n",
    "filtro_grupos = grupo_estatisticas[(grupo_estatisticas['mean'] > media_minima) & (grupo_estatisticas['count'] > quantidade_minima)]\n",
    "print(\"\\nGrupos que atendem às condições específicas:\")\n",
    "print(filtro_grupos)"
   ]
  },
  {
   "cell_type": "markdown",
   "metadata": {},
   "source": [
    "# PRÁTICA 4\n",
    "\n",
    "Utilize o método apply para calcular uma métrica personalizada sobre os grupos. Por exemplo, crie uma função que classifique os alunos em diferentes níveis de desempenho (ex.: \"Alto\", \"Médio\", \"Baixo\") com base na média de notas de cada grupo e aplique-a aos dados.\n",
    "\n",
    "Gere um relatório consolidado com gráficos e tabelas que resumam as principais descobertas da análise. Inclua, pelo menos, os seguintes itens:\n",
    "\n",
    "* Comparações de médias entre grupos.\n",
    "* Grupos que mais se destacam em termos de desempenho.\n",
    "* Análise dos principais fatores que impactam o desempenho (ex.: Tipo de Curso, Gênero, Horário de Estudo).\n",
    "* Use visualizações de dados, como gráficos de barras ou boxplots, para dar suporte às conclusões. (Explore a biblioteca Seaborn).\n"
   ]
  },
  {
   "cell_type": "code",
   "execution_count": null,
   "metadata": {},
   "outputs": [],
   "source": [
    "# Carregar o dataset\n",
    "data = pd.read_csv('StudentPerformanceFactors.csv')\n",
    "\n",
    "# Definir as colunas para análise\n",
    "categoria_coluna = 'Tipo de Curso'  # Substitua pelo nome da coluna categórica desejada\n",
    "nota_coluna = 'Notas'               # Substitua pelo nome da coluna que representa as notas\n",
    "\n",
    "# Função personalizada para classificar níveis de desempenho com base na média de notas\n",
    "def classificar_desempenho(media):\n",
    "    if media >= 80:\n",
    "        return \"Alto\"\n",
    "    elif media >= 60:\n",
    "        return \"Médio\"\n",
    "    else:\n",
    "        return \"Baixo\"\n",
    "\n",
    "# Agrupar dados pela categoria e calcular a média de notas\n",
    "grupo_estatisticas = data.groupby(categoria_coluna)[nota_coluna].agg(['mean', 'count']).reset_index()\n",
    "\n",
    "# Aplicar a função personalizada para classificar os grupos de acordo com o desempenho\n",
    "grupo_estatisticas['Desempenho'] = grupo_estatisticas['mean'].apply(classificar_desempenho)\n",
    "\n",
    "# Exibir tabela de classificação de desempenho\n",
    "print(\"Classificação de Desempenho por Categoria:\")\n",
    "print(grupo_estatisticas)\n",
    "\n",
    "# Visualização 1: Comparação de médias entre grupos\n",
    "plt.figure(figsize=(10, 6))\n",
    "sns.barplot(data=grupo_estatisticas, x=categoria_coluna, y='mean', hue='Desempenho')\n",
    "plt.title(f'Comparação de Médias de Notas por {categoria_coluna}')\n",
    "plt.xlabel(categoria_coluna)\n",
    "plt.ylabel('Média das Notas')\n",
    "plt.xticks(rotation=45)\n",
    "plt.legend(title='Nível de Desempenho')\n",
    "plt.show()\n",
    "\n",
    "# Visualização 2: Boxplot para distribuição das notas por categoria\n",
    "plt.figure(figsize=(10, 6))\n",
    "sns.boxplot(data=data, x=categoria_coluna, y=nota_coluna)\n",
    "plt.title(f'Distribuição das Notas por {categoria_coluna}')\n",
    "plt.xlabel(categoria_coluna)\n",
    "plt.ylabel('Notas')\n",
    "plt.xticks(rotation=45)\n",
    "plt.show()\n",
    "\n",
    "# Identificar o grupo de maior desempenho\n",
    "grupo_destacado = grupo_estatisticas[grupo_estatisticas['Desempenho'] == 'Alto']\n",
    "print(\"\\nGrupos que se destacam em termos de desempenho (Alto Desempenho):\")\n",
    "print(grupo_destacado)\n",
    "\n",
    "# Análise de fatores impactantes (exemplo: Tipo de Curso, Gênero, Horário de Estudo)\n",
    "# Adicione colunas adicionais para comparar fatores, como 'Gênero' ou 'Horário de Estudo', caso estejam presentes no dataset.\n",
    "# Exemplo: Agrupar por 'Gênero' e calcular média e contagem\n",
    "if 'Gênero' in data.columns:\n",
    "    genero_estatisticas = data.groupby('Gênero')[nota_coluna].agg(['mean', 'median', 'count']).reset_index()\n",
    "    print(\"\\nDesempenho por Gênero:\")\n",
    "    print(genero_estatisticas)\n",
    "\n",
    "    # Visualização do desempenho por gênero\n",
    "    plt.figure(figsize=(8, 6))\n",
    "    sns.barplot(data=genero_estatisticas, x='Gênero', y='mean')\n",
    "    plt.title('Média de Notas por Gênero')\n",
    "    plt.xlabel('Gênero')\n",
    "    plt.ylabel('Média das Notas')\n",
    "    plt.show()\n",
    "else:\n",
    "    print(\"\\nA coluna 'Gênero' não está disponível no dataset.\")\n",
    "\n",
    "# Relatório Consolidado\n",
    "print(\"\\nRelatório Consolidado:\")\n",
    "print(\"1. Comparações de médias entre grupos: ver gráficos de barras e boxplots.\")\n",
    "print(\"2. Grupos que mais se destacam em termos de desempenho: ver tabela de classificação.\")\n",
    "print(\"3. Análise dos principais fatores que impactam o desempenho: ver análise de gênero, tipo de curso e outros fatores disponíveis.\")\n"
   ]
  }
 ],
 "metadata": {
  "kernelspec": {
   "display_name": "Python 3",
   "language": "python",
   "name": "python3"
  },
  "language_info": {
   "codemirror_mode": {
    "name": "ipython",
    "version": 3
   },
   "file_extension": ".py",
   "mimetype": "text/x-python",
   "name": "python",
   "nbconvert_exporter": "python",
   "pygments_lexer": "ipython3",
   "version": "3.11.9"
  }
 },
 "nbformat": 4,
 "nbformat_minor": 2
}
