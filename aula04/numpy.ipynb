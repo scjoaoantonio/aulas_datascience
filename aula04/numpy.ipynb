{
 "cells": [
  {
   "cell_type": "markdown",
   "id": "a6cc570b",
   "metadata": {},
   "source": [
    "# Introdução a numpy\n",
    "\n",
    "\n",
    "- Motivação\n",
    "- Quais as vantagens de se utilizar numpy?\n",
    "- Manipulação de arrays:\n",
    "    - Criação de um array\n",
    "    - Inserção de valores\n",
    "    - Deleção de valores\n",
    "    - Concatenção de array\n",
    "- Operações com numpy arrays:\n",
    "    - Soma\n",
    "    - Subtração\n",
    "    - Divisão\n",
    "    - Multiplicação\n",
    "- Operações de conjuntos:\n",
    "    - União\n",
    "    - Interseção\n",
    "    - Diferença\n",
    "- Operações de matrizes:\n",
    "    - Transposição\n",
    "    - Multiplicação de matrizes\n",
    "    - Operações básicas de matrizes: Soma, subtraçao, multiplicação\n",
    "- Operações com random:\n",
    "    - Criação de um array aleatório\n",
    "    - Criação de uma matriz aleatória\n",
    "- Operações de SQL:\n",
    "    - Select\n",
    "    - Where\n",
    "- Exemplo final:\n",
    "    - Similaridade de valores\n",
    "\n",
    "Numpy é uma biblioteca para linguagem python com operações de computação númerica. A biblioteca tem grande notoriedade na comunidade dado que utiliza estruturas de dados próprias que são implementadas em C. \n",
    "\n",
    "A biblioteca possui um excelente desempenho computacional e a facilidade de implementação em Python.\n",
    "\n",
    "\n"
   ]
  },
  {
   "cell_type": "code",
   "execution_count": 29,
   "id": "ff3aa115-9c75-447d-9f1b-e6a66767ddbe",
   "metadata": {
    "tags": []
   },
   "outputs": [
    {
     "name": "stdout",
     "output_type": "stream",
     "text": [
      "Array 1D: [1 2 3 4]\n",
      "Array 2D:\n",
      "[[1 2]\n",
      " [3 4]]\n",
      "Primeiro elemento: 1\n",
      "Slicing do array: [2 3]\n",
      "Array + 2: [3 4 5 6]\n",
      "Array * 3: [ 3  6  9 12]\n",
      "Vetorização - primeiro valor: 2\n",
      "Resultado do Broadcasting:\n",
      "[[2 2 4]\n",
      " [5 5 7]]\n",
      "Multiplicação de Matrizes (A * B):\n",
      "[[19 22]\n",
      " [43 50]]\n",
      "Decomposição SVD - U:\n",
      "[[-0.40455358 -0.9145143 ]\n",
      " [-0.9145143   0.40455358]]\n",
      "Decomposição SVD - S:\n",
      "[5.4649857  0.36596619]\n",
      "Decomposição SVD - V:\n",
      "[[-0.57604844 -0.81741556]\n",
      " [ 0.81741556 -0.57604844]]\n",
      "Array 2D transposto:\n",
      "[[1 3]\n",
      " [2 4]]\n",
      "Média: 500000.5, Desvio Padrão: 288675.1345946685, Mediana: 500000.5\n",
      "Percentil 25: 250000.75, Percentil 75: 750000.25\n",
      "Array com NaN: [ 1.  2. nan  4.  5.]\n",
      "Array após substituição de NaN: [1. 2. 0. 4. 5.]\n",
      "Raiz quadrada do primeiro elemento: 1.0\n",
      "Logaritmo natural do primeiro elemento: 0.0\n"
     ]
    },
    {
     "data": {
      "text/plain": [
       "array([      1,       2,       3, ...,  999998,  999999, 1000000])"
      ]
     },
     "execution_count": 29,
     "metadata": {},
     "output_type": "execute_result"
    }
   ],
   "source": [
    "# NumPy para Data Science - Notebook Auxiliar\n",
    "\n",
    "import numpy as np\n",
    "import matplotlib.pyplot as plt\n",
    "\n",
    "# Criação de Arrays com NumPy\n",
    "arr = np.array([1, 2, 3, 4])\n",
    "print(f\"Array 1D: {arr}\")\n",
    "\n",
    "arr_2d = np.array([[1, 2], [3, 4]])\n",
    "print(f\"Array 2D:\\n{arr_2d}\")\n",
    "\n",
    "# Indexação e Slicing\n",
    "print(f\"Primeiro elemento: {arr[0]}\")\n",
    "print(f\"Slicing do array: {arr[1:3]}\")\n",
    "\n",
    "# Operações Básicas em Arrays\n",
    "print(f\"Array + 2: {arr + 2}\")\n",
    "print(f\"Array * 3: {arr * 3}\")\n",
    "\n",
    "# Vetorização em NumPy\n",
    "arr_large = np.arange(1,1000001)\n",
    "arr_large_result = arr_large * 2\n",
    "print(f\"Vetorização - primeiro valor: {arr_large_result[0]}\")\n",
    "\n",
    "# Broadcasting em NumPy\n",
    "matriz = np.array([[1, 2, 3], [4, 5, 6]])\n",
    "vetor = np.array([1, 0, 1])\n",
    "broadcasting_result = matriz + vetor\n",
    "print(f\"Resultado do Broadcasting:\\n{broadcasting_result}\")\n",
    "\n",
    "# Álgebra Linear com NumPy - Multiplicação de Matrizes\n",
    "A = np.array([[1, 2], [3, 4]])\n",
    "B = np.array([[5, 6], [7, 8]])\n",
    "multiplicacao_result = np.dot(A, B)\n",
    "print(f\"Multiplicação de Matrizes (A * B):\\n{multiplicacao_result}\")\n",
    "\n",
    "# Decomposição de Matrizes com NumPy (SVD)\n",
    "U, S, V = np.linalg.svd(A)\n",
    "print(f\"Decomposição SVD - U:\\n{U}\")\n",
    "print(f\"Decomposição SVD - S:\\n{S}\")\n",
    "print(f\"Decomposição SVD - V:\\n{V}\")\n",
    "\n",
    "# Reshaping e Transposição\n",
    "reshaped_arr = arr_large.reshape(1000, 1000)\n",
    "transposed_arr = arr_2d.T\n",
    "print(f\"Array 2D transposto:\\n{transposed_arr}\")\n",
    "\n",
    "# Operações Estatísticas\n",
    "mean = np.mean(arr_large)\n",
    "std_dev = np.std(arr_large)\n",
    "median = np.median(arr_large)\n",
    "percentile_25 = np.percentile(arr_large, 25)\n",
    "percentile_75 = np.percentile(arr_large, 75)\n",
    "print(f\"Média: {mean}, Desvio Padrão: {std_dev}, Mediana: {median}\")\n",
    "print(f\"Percentil 25: {percentile_25}, Percentil 75: {percentile_75}\")\n",
    "\n",
    "# Manipulação de Dados Faltantes\n",
    "arr_with_nan = np.array([1, 2, np.nan, 4, 5])\n",
    "print(f\"Array com NaN: {arr_with_nan}\")\n",
    "arr_with_nan[np.isnan(arr_with_nan)] = 0\n",
    "print(f\"Array após substituição de NaN: {arr_with_nan}\")\n",
    "\n",
    "# Funções Universais (ufuncs)\n",
    "sqrt_result = np.sqrt(arr_large)\n",
    "log_result = np.log(arr_large)\n",
    "print(f\"Raiz quadrada do primeiro elemento: {sqrt_result[0]}\")\n",
    "print(f\"Logaritmo natural do primeiro elemento: {log_result[0]}\")\n",
    "\n",
    "arr_large"
   ]
  },
  {
   "cell_type": "code",
   "execution_count": 1,
   "id": "fb955f24",
   "metadata": {
    "tags": []
   },
   "outputs": [],
   "source": [
    "import numpy as np"
   ]
  },
  {
   "cell_type": "code",
   "execution_count": 2,
   "id": "1fbbd2c6",
   "metadata": {
    "tags": []
   },
   "outputs": [
    {
     "name": "stdout",
     "output_type": "stream",
     "text": [
      "[0 1 2 3 4 5 6 7 8]\n",
      "[0 1 2 3 4]\n",
      "[5 6 7 8]\n"
     ]
    }
   ],
   "source": [
    "## criação de uma lista\n",
    "\n",
    "# python\n",
    "\n",
    "lista_python = [1, 2, 3]\n",
    "\n",
    "# numpy\n",
    "lista_np = np.arange(0, 4)\n",
    "\n",
    "## Inserção de dados em um lista\n",
    "\n",
    "# python\n",
    "lista_python.append(4)\n",
    "\n",
    "# numpy\n",
    "lista_np = np.append(lista_np, 4)\n",
    "\n",
    "## Inserção em uma posição específica\n",
    "\n",
    "\n",
    "# python\n",
    "# index e o valor a ser adicionado\n",
    "lista_python.insert(0, 0)\n",
    "\n",
    "# numpy\n",
    "# index e o valor a ser adicionado\n",
    "lista_np = np.insert(lista_np, 0, 0)\n",
    "\n",
    "## Deleção de valores\n",
    "\n",
    "# python\n",
    "# remove o último valor da lista\n",
    "# estrutura de dados em python possui o conceito de duck type\n",
    "# elas possuem o comportamento de várias estruturas ao mesmo tempo\n",
    "# no da lista ela também engloba pilha e fila\n",
    "\n",
    "# lista_python.pop() - remove um valor por index e retorna seu valor\n",
    "# lista_python.remove() - remove por valor\n",
    "# lista_python.del() - remove por slice ou index\n",
    "\n",
    "lista_python.pop(0)\n",
    "\n",
    "# numpy\n",
    "\n",
    "# o array do numpy e o index a ser removido\n",
    "# vale ressaltar que pode ser usado index ou slice\n",
    "lista_np = np.delete(lista_np, 0)\n",
    "\n",
    "\n",
    "## Concatenação de listas/arrays\n",
    "\n",
    "# python\n",
    "lista_python_b = [5, 6, 7, 8]\n",
    "\n",
    "lista_python_a = lista_python + lista_python_b\n",
    "\n",
    "\n",
    "# numpy\n",
    "lista_np_b = np.array([5, 6, 7, 8])\n",
    "\n",
    "lista_np_a = np.concatenate([lista_np, lista_np_b])\n",
    "print(lista_np_a)\n",
    "print(lista_np)\n",
    "print(lista_np_b)"
   ]
  },
  {
   "cell_type": "code",
   "execution_count": 5,
   "id": "93c70fd2",
   "metadata": {
    "tags": []
   },
   "outputs": [
    {
     "name": "stdout",
     "output_type": "stream",
     "text": [
      "[6, 8, 10, 12]\n"
     ]
    }
   ],
   "source": [
    "# Operações com numpy arrays\n",
    "\n",
    "## soma\n",
    "\n",
    "# python\n",
    "lista_python_a = list(map(lambda x, y: x + y, lista_python, lista_python_b))\n",
    "\n",
    "print(lista_python_a)"
   ]
  },
  {
   "cell_type": "code",
   "execution_count": 6,
   "id": "56ff8713",
   "metadata": {
    "tags": []
   },
   "outputs": [
    {
     "name": "stdout",
     "output_type": "stream",
     "text": [
      "5 4\n",
      "4 4\n",
      "[1 2 3 4]\n",
      "[5 6 7 8]\n",
      "[ 6  8 10 12]\n"
     ]
    }
   ],
   "source": [
    "# numpy\n",
    "print(len(lista_np), len(lista_np_b) )\n",
    "lista_np = np.delete(lista_np, 0)\n",
    "print(len(lista_np), len(lista_np_b))\n",
    "lista_np_a = lista_np + lista_np_b\n",
    "print(lista_np)\n",
    "print(lista_np_b)\n",
    "print(lista_np_a)\n"
   ]
  },
  {
   "cell_type": "code",
   "execution_count": 8,
   "id": "3ce52df3",
   "metadata": {
    "tags": []
   },
   "outputs": [
    {
     "name": "stdout",
     "output_type": "stream",
     "text": [
      "[1 2 3 4]\n",
      "[5 6 7 8]\n",
      "[ 5 12 21 32]\n",
      "[ 3  6  9 12]\n"
     ]
    }
   ],
   "source": [
    "## Subtração\n",
    "\n",
    "# python\n",
    "lista_python_a = list(map(lambda x, y: x - y, lista_python, lista_python_b))\n",
    "\n",
    "# numpy\n",
    "lista_np_a = lista_np - lista_np_b\n",
    "\n",
    "## Divisão\n",
    "\n",
    "# python\n",
    "lista_python_a = list(map(lambda x, y: x/y, lista_python, lista_python_b))\n",
    "\n",
    "# numpy\n",
    "lista_np_a = lista_np/lista_np_b\n",
    "\n",
    "\n",
    "lista_np_a = lista_np/3\n",
    "\n",
    "\n",
    "## Multiplicação\n",
    "\n",
    "# python\n",
    "lista_python_a = list(map(lambda x, y: x*y, lista_python, lista_python_b))\n",
    "\n",
    "# numpy\n",
    "print(lista_np)\n",
    "print(lista_np_b)\n",
    "lista_np_a = lista_np * lista_np_b\n",
    "\n",
    "print(lista_np_a)\n",
    "lista_np_a = lista_np * 3\n",
    "print(lista_np_a)\n"
   ]
  },
  {
   "cell_type": "code",
   "execution_count": 9,
   "id": "e7c0979c",
   "metadata": {
    "tags": []
   },
   "outputs": [
    {
     "name": "stdout",
     "output_type": "stream",
     "text": [
      "[1, 2, 3, 4]\n",
      "[1, 2, 3, 4, 1, 4, 5]\n",
      "[1, 2, 3, 4, 1, 4, 5]\n",
      "{1, 2, 3, 4, 5}\n"
     ]
    }
   ],
   "source": [
    "# Operação de conjuntos\n",
    "print(lista_python)\n",
    "lista_python = [1,2,3,4] + [1,4,5]\n",
    "print(lista_python)\n",
    "print(lista_python)\n",
    "lista_python = set(lista_python)\n",
    "print(lista_python)\n",
    "lista_python_b = set(lista_python_b)\n",
    "\n"
   ]
  },
  {
   "cell_type": "code",
   "execution_count": 10,
   "id": "441af184",
   "metadata": {
    "tags": []
   },
   "outputs": [
    {
     "name": "stdout",
     "output_type": "stream",
     "text": [
      "{1, 2, 3, 4}\n",
      "[1 2 3 4]\n",
      "[5 6 7 8]\n",
      "[1 2 3 4]\n",
      "[1 1 1]\n"
     ]
    }
   ],
   "source": [
    "## Operação de união\n",
    "\n",
    "# python\n",
    "lista_python_a = lista_python.union(lista_python_b)\n",
    "\n",
    "# numpy\n",
    "lista_np_a = np.union1d(lista_np, lista_np_b)\n",
    "\n",
    "## Operação de Interseção\n",
    "\n",
    "# python\n",
    "lista_python_a = lista_python.intersection(lista_python_b)\n",
    "\n",
    "# numpy\n",
    "lista_np_a = np.intersect1d(lista_np, lista_np_b)\n",
    "\n",
    "## Operação de diferença\n",
    "\n",
    "# python\n",
    "lista_python_a = lista_python.difference(lista_python_b)\n",
    "print(lista_python_a )\n",
    "print(lista_np)\n",
    "print(lista_np_b)\n",
    "# numpy\n",
    "lista_np_a = np.setdiff1d(lista_np, lista_np_b)\n",
    "print(lista_np_a)\n",
    "lista_np_a = np.diff(lista_np)\n",
    "print(lista_np_a)"
   ]
  },
  {
   "cell_type": "code",
   "execution_count": 11,
   "id": "a74a60ac",
   "metadata": {
    "tags": []
   },
   "outputs": [],
   "source": [
    "def generate_random_matrix(row, columns, min_value=0, max_value=1, multiply=1):\n",
    "\n",
    "\n",
    "    return [[random.uniform(min_value, max_value) * multiply for column in range(columns)] for row_index in range(0, row)]"
   ]
  },
  {
   "cell_type": "code",
   "execution_count": 13,
   "id": "b26bee6e",
   "metadata": {
    "tags": []
   },
   "outputs": [
    {
     "name": "stdout",
     "output_type": "stream",
     "text": [
      "[772 788  71 306 439 389 869 901 837 940 692 418 145 633 332  75 718 101\n",
      " 334  69 547 792 675 961 823 641 340 299 660 585 775 275 253 842 316 879\n",
      " 514  70 253 338 897 586 271 197 596 710 690 906 659 471 785 916 654 153\n",
      " 565 353 276 982 641 222 717  99 511 961 481  56 573 555 398 875 722 906\n",
      " 355 885 663  86 778 991 791 724 888 437 102 577 792 588 238 574 228 282\n",
      " 142 303 475 106 795 424 437 344 476 680]\n",
      "[[772 788  71 306 439 389 869 901 837 940]\n",
      " [692 418 145 633 332  75 718 101 334  69]\n",
      " [547 792 675 961 823 641 340 299 660 585]\n",
      " [775 275 253 842 316 879 514  70 253 338]\n",
      " [897 586 271 197 596 710 690 906 659 471]\n",
      " [785 916 654 153 565 353 276 982 641 222]\n",
      " [717  99 511 961 481  56 573 555 398 875]\n",
      " [722 906 355 885 663  86 778 991 791 724]\n",
      " [888 437 102 577 792 588 238 574 228 282]\n",
      " [142 303 475 106 795 424 437 344 476 680]]\n"
     ]
    }
   ],
   "source": [
    "# Operações com random\n",
    "\n",
    "## Criação de um array aleatório\n",
    "array = np.random.randint(low=0, high=1000, size=100)\n",
    "print(array)\n",
    "\n",
    "\n",
    "## Criação de uma matriz baseada no array\n",
    "matrix_array = array.reshape(10, 10)\n",
    "print(matrix_array)"
   ]
  },
  {
   "cell_type": "code",
   "execution_count": 14,
   "id": "59d10a71",
   "metadata": {
    "tags": []
   },
   "outputs": [],
   "source": [
    "def transpose_matrix(matrix):\n",
    "    \"\"\"\n",
    "        Given a matrix A, this method will return A Transposed\n",
    "        A matrix will be a python list of list\n",
    "    \"\"\"\n",
    "\n",
    "    transposed_matrix = []\n",
    "\n",
    "    for column in range(0, len(matrix[0])):\n",
    "\n",
    "        new_row = []\n",
    "\n",
    "        for row in range(0, len(matrix)):\n",
    "\n",
    "            new_row.append(matrix[row][column])\n",
    "\n",
    "        transposed_matrix.append(new_row)\n",
    "\n",
    "    return transposed_matrix\n",
    "\n",
    "\n",
    "def matrix_multiplication(matrix_a, matrix_b):\n",
    "    \"\"\"\n",
    "        Given two matrixes, this method returns a third matrix that\n",
    "        is the multiplication of the two entry matrixes\n",
    "    \n",
    "        Row X Column\n",
    "    \"\"\"\n",
    "\n",
    "    result_matrix = []\n",
    "\n",
    "    for row in matrix_a:\n",
    "\n",
    "        # I have a list of values that will be multiplied by the column of another matrix\n",
    "\n",
    "        new_row = []\n",
    "\n",
    "        for k in range(0, len(matrix_a)): # vary the rows for matrix b\n",
    "\n",
    "            total = 0\n",
    "\n",
    "            for j in range(0, len(matrix_b)): # Vary the columns for the matrix_b\n",
    "\n",
    "                total += matrix_b[j][k] * row[j]\n",
    "\n",
    "            new_row.append(total)\n",
    "\n",
    "        result_matrix.append(new_row)\n",
    "\n",
    "    return result_matrix"
   ]
  },
  {
   "cell_type": "code",
   "execution_count": 15,
   "id": "6334cf39",
   "metadata": {
    "tags": []
   },
   "outputs": [
    {
     "name": "stdout",
     "output_type": "stream",
     "text": [
      "[[7 2 6]\n",
      " [7 6 7]\n",
      " [1 6 4]]\n",
      "[[6 1 9]\n",
      " [5 1 7]\n",
      " [2 1 9]]\n",
      "[[ 64  15 131]\n",
      " [ 86  20 168]\n",
      " [ 44  11  87]]\n",
      "[[13  3 15]\n",
      " [12  7 14]\n",
      " [ 3  7 13]]\n"
     ]
    }
   ],
   "source": [
    "# Operações de matrizes\n",
    "\n",
    "## criação de uma matriz\n",
    "matrix_array = np.random.randint(low=0, high=10, size=9).reshape(3, 3)\n",
    "matrix_array_b = np.random.randint(low=0, high=10, size=9).reshape(3, 3)\n",
    "\n",
    "\n",
    "## multiplicação de matrizes\n",
    "mult_result = np.matmul(matrix_array, matrix_array_b)\n",
    "print(matrix_array)\n",
    "print(matrix_array_b)\n",
    "print(mult_result)\n",
    "\n",
    "## matriz sum\n",
    "sum_result = matrix_array + matrix_array_b\n",
    "print(sum_result)"
   ]
  },
  {
   "cell_type": "code",
   "execution_count": 16,
   "id": "9cbe33d7",
   "metadata": {
    "tags": []
   },
   "outputs": [
    {
     "name": "stdout",
     "output_type": "stream",
     "text": [
      "[0 1 2 3 4 5 6 7 8 9]\n"
     ]
    }
   ],
   "source": [
    "# Operações SQL\n",
    "\n",
    "lista_np = np.arange(10)\n",
    "print(lista_np)\n"
   ]
  },
  {
   "cell_type": "code",
   "execution_count": 17,
   "id": "0b609331",
   "metadata": {
    "tags": []
   },
   "outputs": [
    {
     "name": "stdout",
     "output_type": "stream",
     "text": [
      "[array([ True,  True,  True,  True, False, False, False, False, False,\n",
      "       False]), array([False, False, False, False, False, False, False,  True,  True,\n",
      "        True])]\n"
     ]
    }
   ],
   "source": [
    "## Select\n",
    "\n",
    "# condições para a query\n",
    "conditions = [lista_np <= 3, lista_np>=7]\n",
    "\n",
    "print(conditions)"
   ]
  },
  {
   "cell_type": "code",
   "execution_count": 18,
   "id": "7aa327cb",
   "metadata": {
    "tags": []
   },
   "outputs": [
    {
     "name": "stdout",
     "output_type": "stream",
     "text": [
      "[array([0, 1, 2, 3, 4, 5, 6, 7, 8, 9]), array([ 0,  2,  4,  6,  8, 10, 12, 14, 16, 18])]\n"
     ]
    }
   ],
   "source": [
    "# operações sobre o vetor\n",
    "operations = [lista_np, lista_np * 2]\n",
    "print(operations)\n"
   ]
  },
  {
   "cell_type": "code",
   "execution_count": 19,
   "id": "ba1a6593",
   "metadata": {
    "tags": []
   },
   "outputs": [
    {
     "name": "stdout",
     "output_type": "stream",
     "text": [
      "[ 0  1  2  3 -1 -1 -1 14 16 18]\n",
      "[14 16 18]\n"
     ]
    }
   ],
   "source": [
    "results = np.select(conditions, operations, -1)\n",
    "print(results)\n",
    "\n",
    "## Where\n",
    "results = results[np.where(results > 10)]\n",
    "print(results)"
   ]
  },
  {
   "cell_type": "markdown",
   "id": "38319e47",
   "metadata": {},
   "source": [
    "# Calculando similaridade entre diversos vetores"
   ]
  },
  {
   "cell_type": "code",
   "execution_count": 20,
   "id": "a741a0d1",
   "metadata": {
    "tags": []
   },
   "outputs": [],
   "source": [
    "def measure_cosine_distance(tokens_one, tokens_two):\n",
    "    \"\"\"\n",
    "        Calculating the cosine similarity between two arrays\n",
    "        return a float value between -1 and 1\n",
    "    \"\"\"\n",
    "    return (np.dot(tokens_one, tokens_two)/(np.linalg.norm(tokens_one) * np.linalg.norm(tokens_two)))"
   ]
  },
  {
   "cell_type": "code",
   "execution_count": 21,
   "id": "f17f25ed",
   "metadata": {
    "tags": []
   },
   "outputs": [],
   "source": [
    "def measure_similarity_between_arrays(matrix, similarity_measure=measure_cosine_distance):\n",
    "    \n",
    "    similarity_matrix = np.zeros((len(matrix), len(matrix)))\n",
    "    \n",
    "    np.diagonal(similarity_matrix, 1)\n",
    "    \n",
    "    for row_index, row in enumerate(matrix):\n",
    "        \n",
    "        # quais são os indexes das colunas que ainda não foram preenchidas\n",
    "        columns_index = np.argwhere(similarity_matrix[row_index] == 0).flatten()\n",
    "        \n",
    "        similarities = list(map(lambda other_row: similarity_measure(row, other_row), matrix[columns_index]))\n",
    "        \n",
    "        similarity_matrix[row_index][columns_index] = similarities\n",
    "        \n",
    "        similarity_matrix[columns_index][row_index] = similarities\n",
    "\n",
    "    return similarity_matrix"
   ]
  },
  {
   "cell_type": "code",
   "execution_count": 22,
   "id": "706a1a63",
   "metadata": {
    "tags": []
   },
   "outputs": [
    {
     "data": {
      "text/plain": [
       "array([[1.        , 0.23570226, 0.5       , 0.40824829, 0.47140452,\n",
       "        0.54772256, 0.77151675, 0.40824829, 0.73029674, 0.81649658],\n",
       "       [0.23570226, 1.        , 0.23570226, 0.28867513, 0.        ,\n",
       "        0.51639778, 0.21821789, 0.28867513, 0.25819889, 0.28867513],\n",
       "       [0.5       , 0.23570226, 1.        , 0.40824829, 0.47140452,\n",
       "        0.54772256, 0.6172134 , 0.61237244, 0.54772256, 0.40824829],\n",
       "       [0.40824829, 0.28867513, 0.40824829, 1.        , 0.57735027,\n",
       "        0.        , 0.75592895, 0.25      , 0.67082039, 0.5       ],\n",
       "       [0.47140452, 0.        , 0.47140452, 0.57735027, 1.        ,\n",
       "        0.        , 0.43643578, 0.28867513, 0.51639778, 0.57735027],\n",
       "       [0.54772256, 0.51639778, 0.54772256, 0.        , 0.        ,\n",
       "        1.        , 0.50709255, 0.4472136 , 0.2       , 0.2236068 ],\n",
       "       [0.77151675, 0.21821789, 0.6172134 , 0.75592895, 0.43643578,\n",
       "        0.50709255, 1.        , 0.37796447, 0.6761234 , 0.56694671],\n",
       "       [0.40824829, 0.28867513, 0.61237244, 0.25      , 0.28867513,\n",
       "        0.4472136 , 0.37796447, 1.        , 0.4472136 , 0.25      ],\n",
       "       [0.73029674, 0.25819889, 0.54772256, 0.67082039, 0.51639778,\n",
       "        0.2       , 0.6761234 , 0.4472136 , 1.        , 0.67082039],\n",
       "       [0.81649658, 0.28867513, 0.40824829, 0.5       , 0.57735027,\n",
       "        0.2236068 , 0.56694671, 0.25      , 0.67082039, 1.        ]])"
      ]
     },
     "execution_count": 22,
     "metadata": {},
     "output_type": "execute_result"
    }
   ],
   "source": [
    "measure_similarity_between_arrays(np.random.randint(low=0, high=2, size=100).reshape(10, 10))"
   ]
  },
  {
   "cell_type": "code",
   "execution_count": null,
   "id": "7f7261c4-6c61-49a5-87b6-ee3fefbc76bd",
   "metadata": {},
   "outputs": [],
   "source": []
  }
 ],
 "metadata": {
  "kernelspec": {
   "display_name": "Python 3 (ipykernel)",
   "language": "python",
   "name": "python3"
  },
  "language_info": {
   "codemirror_mode": {
    "name": "ipython",
    "version": 3
   },
   "file_extension": ".py",
   "mimetype": "text/x-python",
   "name": "python",
   "nbconvert_exporter": "python",
   "pygments_lexer": "ipython3",
   "version": "3.10.7"
  }
 },
 "nbformat": 4,
 "nbformat_minor": 5
}
