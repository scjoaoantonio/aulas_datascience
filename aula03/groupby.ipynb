{
  "nbformat": 4,
  "nbformat_minor": 0,
  "metadata": {
    "colab": {
      "provenance": []
    },
    "kernelspec": {
      "name": "python3",
      "display_name": "Python 3"
    },
    "language_info": {
      "name": "python"
    }
  },
  "cells": [
    {
      "cell_type": "code",
      "execution_count": null,
      "metadata": {
        "colab": {
          "base_uri": "https://localhost:8080/"
        },
        "id": "3B0V7hIF4Wqn",
        "outputId": "072c9593-ed9a-4b8f-d7d1-be180f782065"
      },
      "outputs": [
        {
          "output_type": "stream",
          "name": "stdout",
          "text": [
            "DataFrame Original:\n",
            "  Equipe  Pontos\n",
            "0      A      10\n",
            "1      B      20\n",
            "2      A      15\n",
            "3      B      25\n"
          ]
        }
      ],
      "source": [
        "# Agrupamento de Dados com Pandas\n",
        "# Exemplo Notebook\n",
        "\n",
        "import pandas as pd\n",
        "\n",
        "# Introdução ao Agrupamento com Pandas\n",
        "\n",
        "# 1. Criando um DataFrame de exemplo\n",
        "df = pd.DataFrame({\n",
        "    'Equipe': ['A', 'B', 'A', 'B'],\n",
        "    'Pontos': [10, 20, 15, 25]\n",
        "})\n",
        "print(\"DataFrame Original:\")\n",
        "print(df)"
      ]
    },
    {
      "cell_type": "code",
      "source": [
        "for name, group in df.groupby('Equipe'):\n",
        "    print(name)\n",
        "    print(group)"
      ],
      "metadata": {
        "colab": {
          "base_uri": "https://localhost:8080/"
        },
        "id": "2CSuOx02IQUf",
        "outputId": "340f34b4-5345-47c4-df9d-70efb35e4efb"
      },
      "execution_count": null,
      "outputs": [
        {
          "output_type": "stream",
          "name": "stdout",
          "text": [
            "A\n",
            "  Equipe  Pontos\n",
            "0      A      10\n",
            "2      A      15\n",
            "B\n",
            "  Equipe  Pontos\n",
            "1      B      20\n",
            "3      B      25\n"
          ]
        }
      ]
    },
    {
      "cell_type": "code",
      "source": [
        "grouped = df.groupby(\"Equipe\")\n",
        "print(grouped.get_group(\"A\"))"
      ],
      "metadata": {
        "colab": {
          "base_uri": "https://localhost:8080/"
        },
        "id": "Awrw6bhPIq3G",
        "outputId": "b9ba9e76-0747-4016-de7e-15e393f867bf"
      },
      "execution_count": null,
      "outputs": [
        {
          "output_type": "stream",
          "name": "stdout",
          "text": [
            "  Equipe  Pontos\n",
            "0      A      10\n",
            "2      A      15\n"
          ]
        }
      ]
    },
    {
      "cell_type": "code",
      "source": [
        "# 2. Operações Básicas com groupby\n",
        "# Agrupando e calculando a média\n",
        "grupo = df.groupby('Equipe')\n",
        "print(\"\\nMédia dos Pontos por Equipe:\")\n",
        "print(grupo.mean())\n",
        "\n",
        "# Operações com outras funções: soma, contagem, mínimo e máximo\n",
        "print(\"\\nSoma dos Pontos por Equipe:\")\n",
        "print(grupo.sum())\n",
        "\n",
        "print(\"\\nContagem de Entradas por Equipe:\")\n",
        "print(grupo.count())\n",
        "\n",
        "print(\"\\nValor Mínimo e Máximo de Pontos por Equipe:\")\n",
        "print(\"Mínimo:\\n\", grupo.min())\n",
        "print(\"Máximo:\\n\", grupo.max())"
      ],
      "metadata": {
        "colab": {
          "base_uri": "https://localhost:8080/"
        },
        "id": "_Kt_6oxS4g7c",
        "outputId": "b7b72f24-983c-4891-a5e3-05c420690457"
      },
      "execution_count": null,
      "outputs": [
        {
          "output_type": "stream",
          "name": "stdout",
          "text": [
            "\n",
            "Média dos Pontos por Equipe:\n",
            "        Pontos\n",
            "Equipe        \n",
            "A         12.5\n",
            "B         22.5\n",
            "\n",
            "Soma dos Pontos por Equipe:\n",
            "        Pontos\n",
            "Equipe        \n",
            "A           25\n",
            "B           45\n",
            "\n",
            "Contagem de Entradas por Equipe:\n",
            "        Pontos\n",
            "Equipe        \n",
            "A            2\n",
            "B            2\n",
            "\n",
            "Valor Mínimo e Máximo de Pontos por Equipe:\n",
            "Mínimo:\n",
            "         Pontos\n",
            "Equipe        \n",
            "A           10\n",
            "B           20\n",
            "Máximo:\n",
            "         Pontos\n",
            "Equipe        \n",
            "A           15\n",
            "B           25\n"
          ]
        }
      ]
    },
    {
      "cell_type": "code",
      "source": [
        "# 3. Agrupamento por Múltiplas Colunas\n",
        "df_mult = pd.DataFrame({\n",
        "    'Equipe': ['A', 'A', 'B', 'B'],\n",
        "    'Ano': [2020, 2021, 2020, 2021],\n",
        "    'Pontos': [10, 15, 20, 25]\n",
        "})\n",
        "grupo_mult = df_mult.groupby(['Equipe', 'Ano']).mean()\n",
        "print(\"\\nMédia de Pontos por Equipe e Ano:\")\n",
        "print(grupo_mult)"
      ],
      "metadata": {
        "colab": {
          "base_uri": "https://localhost:8080/"
        },
        "id": "deKQ1SlU4Yuu",
        "outputId": "c6efbffb-db9d-4127-b28f-3887aff607c6"
      },
      "execution_count": null,
      "outputs": [
        {
          "output_type": "stream",
          "name": "stdout",
          "text": [
            "\n",
            "Média de Pontos por Equipe e Ano:\n",
            "             Pontos\n",
            "Equipe Ano         \n",
            "A      2020    10.0\n",
            "       2021    15.0\n",
            "B      2020    20.0\n",
            "       2021    25.0\n"
          ]
        }
      ]
    },
    {
      "cell_type": "code",
      "source": [
        "# 4. Aplicação de Funções Customizadas\n",
        "def range_func(x):\n",
        "    return x.max() - x.min()\n",
        "\n",
        "grupo_custom = df.groupby('Equipe')['Pontos'].apply(range_func)\n",
        "print(\"\\nDiferença entre o Máximo e Mínimo de Pontos por Equipe:\")\n",
        "print(grupo_custom)"
      ],
      "metadata": {
        "colab": {
          "base_uri": "https://localhost:8080/"
        },
        "id": "0ynlmLBN4YxZ",
        "outputId": "5f95626d-7b4c-4cb7-e68d-e36d110cb9b0"
      },
      "execution_count": null,
      "outputs": [
        {
          "output_type": "stream",
          "name": "stdout",
          "text": [
            "\n",
            "Diferença entre o Máximo e Mínimo de Pontos por Equipe:\n",
            "Equipe\n",
            "A    5\n",
            "B    5\n",
            "Name: Pontos, dtype: int64\n"
          ]
        }
      ]
    },
    {
      "cell_type": "code",
      "source": [
        "# 5. Agregação com Várias Funções\n",
        "df_agg = pd.DataFrame({\n",
        "    'Equipe': ['A', 'A', 'B', 'B'],\n",
        "    'Pontos': [10, 20, 15, 25],\n",
        "    'Assistências': [5, 3, 6, 4]\n",
        "})\n",
        "grupo_agg = df_agg.groupby('Equipe').agg({\n",
        "    'Pontos': ['sum', 'mean'],\n",
        "    'Assistências': 'max'\n",
        "})\n",
        "print(\"\\nAgregação com Várias Funções:\")\n",
        "print(grupo_agg)"
      ],
      "metadata": {
        "colab": {
          "base_uri": "https://localhost:8080/"
        },
        "id": "kGMNGQLL4Y2u",
        "outputId": "ae9f3e8c-29f2-4f8a-fd2a-82f89aa02d23"
      },
      "execution_count": null,
      "outputs": [
        {
          "output_type": "stream",
          "name": "stdout",
          "text": [
            "\n",
            "Agregação com Várias Funções:\n",
            "       Pontos       Assistências\n",
            "          sum  mean          max\n",
            "Equipe                          \n",
            "A          30  15.0            5\n",
            "B          40  20.0            6\n"
          ]
        }
      ]
    },
    {
      "cell_type": "code",
      "source": [
        "# 6. Filtragem de Grupos\n",
        "grupo_filtrado = df.groupby('Equipe').filter(lambda x: x['Pontos'].mean() > 12)\n",
        "print(\"\\nFiltragem de Grupos com Média de Pontos > 12:\")\n",
        "print(grupo_filtrado)\n"
      ],
      "metadata": {
        "colab": {
          "base_uri": "https://localhost:8080/"
        },
        "id": "6dUzsBDx4Y7G",
        "outputId": "84963ef8-1d77-468f-ee8b-a15027fa7b70"
      },
      "execution_count": null,
      "outputs": [
        {
          "output_type": "stream",
          "name": "stdout",
          "text": [
            "\n",
            "Filtragem de Grupos com Média de Pontos > 12:\n",
            "  Equipe  Pontos\n",
            "0      A      10\n",
            "1      B      20\n",
            "2      A      15\n",
            "3      B      25\n"
          ]
        }
      ]
    },
    {
      "cell_type": "code",
      "source": [
        "\n",
        "# 7. Transformação de Dados\n",
        "df['Pontos_Ajustados'] = df.groupby('Equipe')['Pontos'].transform(lambda x: x - x.mean())\n",
        "print(\"\\nDataFrame com Pontos Ajustados por Equipe:\")\n",
        "print(df)"
      ],
      "metadata": {
        "colab": {
          "base_uri": "https://localhost:8080/"
        },
        "id": "6BhcvCiN4Y-Y",
        "outputId": "9a58728f-dfe6-4a26-f9bf-b15f50a31182"
      },
      "execution_count": null,
      "outputs": [
        {
          "output_type": "stream",
          "name": "stdout",
          "text": [
            "\n",
            "DataFrame com Pontos Ajustados por Equipe:\n",
            "  Equipe  Pontos  Pontos_Ajustados\n",
            "0      A      10              -2.5\n",
            "1      B      20              -2.5\n",
            "2      A      15               2.5\n",
            "3      B      25               2.5\n"
          ]
        }
      ]
    },
    {
      "cell_type": "code",
      "source": [
        "# 8. Operações Avançadas com Descrição Estatística\n",
        "grupo_describe = df.groupby('Equipe')['Pontos'].describe()\n",
        "print(\"\\nEstatísticas Descritivas dos Pontos por Equipe:\")\n",
        "print(grupo_describe)"
      ],
      "metadata": {
        "colab": {
          "base_uri": "https://localhost:8080/"
        },
        "id": "7PJe_Utj4ZBn",
        "outputId": "98257d7a-e217-40fd-be7f-515e0a6e3628"
      },
      "execution_count": null,
      "outputs": [
        {
          "output_type": "stream",
          "name": "stdout",
          "text": [
            "\n",
            "Estatísticas Descritivas dos Pontos por Equipe:\n",
            "        count  mean       std   min    25%   50%    75%   max\n",
            "Equipe                                                       \n",
            "A         2.0  12.5  3.535534  10.0  11.25  12.5  13.75  15.0\n",
            "B         2.0  22.5  3.535534  20.0  21.25  22.5  23.75  25.0\n"
          ]
        }
      ]
    }
  ]
}