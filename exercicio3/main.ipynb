{
 "cells": [
  {
   "cell_type": "markdown",
   "metadata": {},
   "source": [
    "# Desafio\n",
    "\n",
    "### Descrição do Desafio:\n",
    "Você foi designado para criar uma análise e simulação numérica de dados em um estudo de variabilidade climática. A partir de dados aleatórios simulando temperaturas ao longo de anos, você deverá calcular estatísticas, detectar anomalias e realizar uma simulação simples de “cenário futuro” com mudanças climáticas."
   ]
  },
  {
   "cell_type": "code",
   "execution_count": 1,
   "metadata": {},
   "outputs": [],
   "source": [
    "import pandas as pd\n",
    "import seaborn as sns\n",
    "import matplotlib.pyplot as plt\n",
    "import numpy as np"
   ]
  },
  {
   "cell_type": "markdown",
   "metadata": {},
   "source": [
    "# Parte 1\n",
    "\n",
    "### Preparação dos Dados:\n",
    "\n",
    "Gere um array que simule as temperaturas médias mensais (em °C) de uma cidade ao longo de 10 anos (120 valores). A distribuição deve ser centrada em 15°C, com variação sazonal e ruído aleatório.\n",
    "\n",
    "### Estatísticas e Análise Exploratória:\n",
    "\n",
    "Calcule estatísticas básicas: média anual, desvio padrão e percentis (25%, 50%, 75%) das temperaturas.\n",
    "Detecte meses “anômalos” onde a temperatura esteja 2 desvios padrão acima ou abaixo da média anual."
   ]
  },
  {
   "cell_type": "code",
   "execution_count": null,
   "metadata": {},
   "outputs": [],
   "source": [
    "# valores aleatórios de temperaturas com o centro em 15ºC\n",
    "\n",
    "# np.random.normal(loc, scale, size)\n",
    "temperaturas = np.random.normal(15,10,120)\n",
    "print(temperaturas)"
   ]
  },
  {
   "cell_type": "code",
   "execution_count": null,
   "metadata": {},
   "outputs": [],
   "source": [
    "# Cálculo de estatísticas anuais\n",
    "anos = 10\n",
    "meses = 12\n",
    "temperaturas_ano = temperaturas.reshape(anos, meses)\n",
    "\n",
    "print(temperaturas_ano)\n",
    "\n",
    "media_anual = np.mean(temperaturas_ano, axis=1)\n",
    "desvio_padrao_anual = np.std(temperaturas_ano, axis=1)\n",
    "\n",
    "print(\"Média Anual (por ano):\", media_anual)\n",
    "print(\"Desvio Padrão Anual (por ano):\", desvio_padrao_anual)\n",
    "\n",
    "media_geral = np.mean(temperaturas)\n",
    "desvio_padrao_geral = np.std(temperaturas)\n",
    "\n",
    "print(\"Média Geral:\", media_geral)\n",
    "print(\"Desvio Padrão Geral:\", desvio_padrao_geral)"
   ]
  },
  {
   "cell_type": "code",
   "execution_count": null,
   "metadata": {},
   "outputs": [],
   "source": [
    "# Estatísticas gerais\n",
    "percentil_25 = np.percentile(temperaturas, 25)\n",
    "percentil_50 = np.percentile(temperaturas, 50)\n",
    "percentil_75 = np.percentile(temperaturas, 75)\n",
    "\n",
    "print(\"Percentil 25%:\", percentil_25)\n",
    "print(\"Percentil 50% (Mediana):\", percentil_50)\n",
    "print(\"Percentil 75%:\", percentil_75)"
   ]
  },
  {
   "cell_type": "code",
   "execution_count": null,
   "metadata": {},
   "outputs": [],
   "source": [
    "# Detecção de anomalias\n",
    "limite_inferior = media_geral - 2 * desvio_padrao_geral\n",
    "limite_superior = media_geral + 2 * desvio_padrao_geral\n",
    "anomalias = np.where((temperaturas < limite_inferior) | (temperaturas > limite_superior))[0]\n",
    "\n",
    "# Exibindo os resultados\n",
    "\n",
    "print(\"Meses com anomalias (índice):\", anomalias)"
   ]
  },
  {
   "cell_type": "markdown",
   "metadata": {},
   "source": [
    "# Parte 2\n",
    "\n",
    "Simule um aumento gradual de temperatura de 0,1°C por ano para os próximos 50 anos. Gere um gráfico comparando a série histórica original com a projeção futura.\n",
    "\n",
    "### Análise Comparativa e Visualização:\n",
    "\n",
    "Crie visualizações (histogramas e box plots) para comparar a distribuição de temperaturas dos primeiros 10 anos com a projeção dos 50 anos seguintes.\n",
    "\n",
    "Escreva um relatório, que pode ser intercalado com o código no notebook Python, com a descrição dos dados e a explicação dos achados."
   ]
  }
 ],
 "metadata": {
  "kernelspec": {
   "display_name": "Python 3",
   "language": "python",
   "name": "python3"
  },
  "language_info": {
   "codemirror_mode": {
    "name": "ipython",
    "version": 3
   },
   "file_extension": ".py",
   "mimetype": "text/x-python",
   "name": "python",
   "nbconvert_exporter": "python",
   "pygments_lexer": "ipython3",
   "version": "3.11.9"
  }
 },
 "nbformat": 4,
 "nbformat_minor": 2
}
