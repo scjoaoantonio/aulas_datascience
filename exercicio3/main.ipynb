{
 "cells": [
  {
   "cell_type": "markdown",
   "metadata": {},
   "source": [
    "# Desafio\n",
    "\n",
    "### Descrição do Desafio:\n",
    "Você foi designado para criar uma análise e simulação numérica de dados em um estudo de variabilidade climática. A partir de dados aleatórios simulando temperaturas ao longo de anos, você deverá calcular estatísticas, detectar anomalias e realizar uma simulação simples de “cenário futuro” com mudanças climáticas."
   ]
  },
  {
   "cell_type": "code",
   "execution_count": 1,
   "metadata": {},
   "outputs": [],
   "source": [
    "import pandas as pd\n",
    "import seaborn as sns\n",
    "import matplotlib.pyplot as plt\n",
    "import numpy as np"
   ]
  },
  {
   "cell_type": "markdown",
   "metadata": {},
   "source": [
    "# Parte 1\n",
    "\n",
    "### Preparação dos Dados:\n",
    "\n",
    "Gere um array que simule as temperaturas médias mensais (em °C) de uma cidade ao longo de 10 anos (120 valores). A distribuição deve ser centrada em 15°C, com variação sazonal e ruído aleatório.\n",
    "\n",
    "### Estatísticas e Análise Exploratória:\n",
    "\n",
    "Calcule estatísticas básicas: média anual, desvio padrão e percentis (25%, 50%, 75%) das temperaturas.\n",
    "Detecte meses “anômalos” onde a temperatura esteja 2 desvios padrão acima ou abaixo da média anual."
   ]
  },
  {
   "cell_type": "code",
   "execution_count": null,
   "metadata": {},
   "outputs": [],
   "source": [
    "# valores aleatórios de temperaturas com o centro em 15ºC\n",
    "\n",
    "# np.random.normal(loc, scale, size)\n",
    "temp = np.random.normal(15,10,120)\n",
    "print(temp)"
   ]
  },
  {
   "cell_type": "code",
   "execution_count": null,
   "metadata": {},
   "outputs": [],
   "source": [
    "# média anual, desvio padrão e percentis (25%,50%,75%)\n",
    "\n",
    "# temperaturas anômalas (2 desvios padrão acima ou abaixo da média anual)"
   ]
  },
  {
   "cell_type": "markdown",
   "metadata": {},
   "source": [
    "# Parte 2\n",
    "\n",
    "Simule um aumento gradual de temperatura de 0,1°C por ano para os próximos 50 anos. Gere um gráfico comparando a série histórica original com a projeção futura.\n",
    "\n",
    "### Análise Comparativa e Visualização:\n",
    "\n",
    "Crie visualizações (histogramas e box plots) para comparar a distribuição de temperaturas dos primeiros 10 anos com a projeção dos 50 anos seguintes.\n",
    "\n",
    "Escreva um relatório, que pode ser intercalado com o código no notebook Python, com a descrição dos dados e a explicação dos achados."
   ]
  }
 ],
 "metadata": {
  "kernelspec": {
   "display_name": "Python 3",
   "language": "python",
   "name": "python3"
  },
  "language_info": {
   "codemirror_mode": {
    "name": "ipython",
    "version": 3
   },
   "file_extension": ".py",
   "mimetype": "text/x-python",
   "name": "python",
   "nbconvert_exporter": "python",
   "pygments_lexer": "ipython3",
   "version": "3.11.9"
  }
 },
 "nbformat": 4,
 "nbformat_minor": 2
}
