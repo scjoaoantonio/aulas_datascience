{
 "cells": [
  {
   "cell_type": "code",
   "execution_count": 13,
   "metadata": {},
   "outputs": [],
   "source": [
    "# Utilizando o dataset do Titanic, siga as etapas abaixo para realizar uma análise detalhada sobre a sobrevivência de diferentes grupos de passageiros. Sua tarefa é identificar padrões de sobrevivência baseados em diversas caracterı́sticas dos passageiros.\n",
    "\n",
    "# ▶ Distribuição de Idade por Gênero e Classe Social\n",
    "\n",
    "# ▶ Taxa de Sobrevivência por Faixa Etária\n",
    "\n",
    "# ▶ Relação entre Tarifa e Sobrevivência\n",
    "\n",
    "# ▶ Tente fazer alguns gráficos"
   ]
  },
  {
   "cell_type": "code",
   "execution_count": 14,
   "metadata": {},
   "outputs": [],
   "source": [
    "import pandas as pd\n",
    "import seaborn as sns\n",
    "import matplotlib.pyplot as plt\n"
   ]
  },
  {
   "cell_type": "code",
   "execution_count": 15,
   "metadata": {},
   "outputs": [],
   "source": [
    "# Carregar o dataset\n",
    "titanic_df = pd.read_csv('titanic.csv')"
   ]
  },
  {
   "cell_type": "code",
   "execution_count": null,
   "metadata": {},
   "outputs": [],
   "source": [
    "### 1. Distribuição de Idade por Gênero e Classe Social\n",
    "\n",
    "print('\\nAgrupar dados por Classe e Gênero e calcular estatísticas descritivas para a idade\\n')\n",
    "\n",
    "age_distribution = titanic_df.groupby(['Pclass', 'Sex'])['Age'].describe()\n",
    "print(age_distribution)"
   ]
  },
  {
   "cell_type": "code",
   "execution_count": null,
   "metadata": {},
   "outputs": [],
   "source": [
    "### 2. Taxa de Sobrevivência por Faixa Etária\n",
    "\n",
    "# Criando faixas etárias\n",
    "titanic_df['AgeGroup'] = pd.cut(titanic_df['Age'], bins=[0, 16, 30, 50, 100], \n",
    "                                labels=['Criança','Jovem', 'Adulto', 'Idoso'])\n",
    "\n",
    "print('\\nCalculando a taxa de sobrevivência por faixa etária\\n')\n",
    "\n",
    "survival_rate_age_group = titanic_df.groupby('AgeGroup', observed=False)['Survived'].mean()\n",
    "print(survival_rate_age_group)"
   ]
  },
  {
   "cell_type": "code",
   "execution_count": null,
   "metadata": {},
   "outputs": [],
   "source": [
    "### 3. Relação entre Tarifa e Sobrevivência\n",
    "\n",
    "print('# Tarifa para cada grupo de sobrevivência\\n')\n",
    "\n",
    "fare_survival_relation = titanic_df.groupby('Survived')['Fare'].describe()\n",
    "print(fare_survival_relation)\n"
   ]
  },
  {
   "cell_type": "code",
   "execution_count": null,
   "metadata": {},
   "outputs": [],
   "source": [
    "import seaborn as sns\n",
    "import matplotlib.pyplot as plt\n",
    "\n",
    "# Boxplot para mostrar a distribuição das tarifas pagas para cada grupo de sobrevivência\n",
    "plt.figure(figsize=(10, 6))\n",
    "sns.boxplot(data=titanic_df, x='Survived', y='Fare', palette=\"Blues\")\n",
    "plt.title('Distribuição de Tarifas por Status de Sobrevivência')\n",
    "plt.xlabel('Sobreviveu (0 = Não, 1 = Sim)')\n",
    "plt.ylabel('Tarifa')\n",
    "plt.show()\n",
    "\n",
    "# Gráfico de violino para uma visão mais detalhada da densidade das tarifas\n",
    "plt.figure(figsize=(10, 6))\n",
    "sns.violinplot(data=titanic_df, x='Survived', y='Fare', palette=\"muted\")\n",
    "plt.title('Densidade das Tarifas por Status de Sobrevivência')\n",
    "plt.xlabel('Sobreviveu (0 = Não, 1 = Sim)')\n",
    "plt.ylabel('Tarifa')\n",
    "plt.show()\n"
   ]
  }
 ],
 "metadata": {
  "kernelspec": {
   "display_name": "Python 3",
   "language": "python",
   "name": "python3"
  },
  "language_info": {
   "codemirror_mode": {
    "name": "ipython",
    "version": 3
   },
   "file_extension": ".py",
   "mimetype": "text/x-python",
   "name": "python",
   "nbconvert_exporter": "python",
   "pygments_lexer": "ipython3",
   "version": "3.11.9"
  }
 },
 "nbformat": 4,
 "nbformat_minor": 2
}
