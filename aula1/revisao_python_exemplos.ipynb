{
 "cells": [
  {
   "cell_type": "code",
   "execution_count": 1,
   "id": "6dc3d055",
   "metadata": {},
   "outputs": [
    {
     "name": "stdout",
     "output_type": "stream",
     "text": [
      "10 3.14 Python True\n"
     ]
    }
   ],
   "source": [
    "# Exemplo de tipos de dados\n",
    "x = 10      # int\n",
    "y = 3.14    # float\n",
    "nome = \"Python\"  # str\n",
    "ativo = True # bool\n",
    "\n",
    "print(x, y, nome, ativo)\n"
   ]
  },
  {
   "cell_type": "code",
   "execution_count": 2,
   "id": "81a399e6",
   "metadata": {},
   "outputs": [
    {
     "name": "stdout",
     "output_type": "stream",
     "text": [
      "15 Olá Mundo False\n"
     ]
    }
   ],
   "source": [
    "# Exemplo de operações básicas\n",
    "a = 10 + 5      # Soma\n",
    "texto = \"Olá\" + \" Mundo\"  # Concatenação de strings\n",
    "ativo = True and False    # Operador lógico\n",
    "\n",
    "print(a, texto, ativo)\n"
   ]
  },
  {
   "cell_type": "code",
   "execution_count": 3,
   "id": "a6192dd0",
   "metadata": {},
   "outputs": [
    {
     "name": "stdout",
     "output_type": "stream",
     "text": [
      "Olá, Ana!\n",
      "Olá, Carlos!\n"
     ]
    }
   ],
   "source": [
    "# Exemplo de funções\n",
    "def saudacao(nome):\n",
    "    print(f\"Olá, {nome}!\")\n",
    "    \n",
    "saudacao(\"Ana\")\n",
    "saudacao(\"Carlos\")\n"
   ]
  },
  {
   "cell_type": "code",
   "execution_count": 4,
   "id": "aecdc055",
   "metadata": {},
   "outputs": [
    {
     "name": "stdout",
     "output_type": "stream",
     "text": [
      "Olá, Ana!\n",
      "Oi, Carlos!\n"
     ]
    }
   ],
   "source": [
    "# Exemplo de funções com argumentos opcionais\n",
    "def saudacao(nome, saudacao=\"Olá\"):\n",
    "    print(f\"{saudacao}, {nome}!\")\n",
    "\n",
    "saudacao(\"Ana\")              # Usa valor padrão\n",
    "saudacao(\"Carlos\", \"Oi\")     # Sobrescreve valor padrão\n"
   ]
  },
  {
   "cell_type": "code",
   "execution_count": 5,
   "id": "fa1920e1",
   "metadata": {},
   "outputs": [
    {
     "name": "stdout",
     "output_type": "stream",
     "text": [
      "8\n"
     ]
    }
   ],
   "source": [
    "# Exemplo de funções com retorno de valores\n",
    "def soma(a, b):\n",
    "    return a + b\n",
    "\n",
    "resultado = soma(5, 3)\n",
    "print(resultado)\n"
   ]
  },
  {
   "cell_type": "code",
   "execution_count": 6,
   "id": "aaa2c5be",
   "metadata": {},
   "outputs": [
    {
     "name": "stdout",
     "output_type": "stream",
     "text": [
      "[2, 4, 6]\n"
     ]
    }
   ],
   "source": [
    "# Exemplo de funções de alta ordem com filter()\n",
    "numeros = [1, 2, 3, 4, 5, 6]\n",
    "pares = filter(lambda x: x % 2 == 0, numeros)\n",
    "print(list(pares))  # Saída: [2, 4, 6]\n"
   ]
  },
  {
   "cell_type": "code",
   "execution_count": 8,
   "id": "5489edca-f487-43ca-8cdc-449c229294e2",
   "metadata": {},
   "outputs": [
    {
     "name": "stdout",
     "output_type": "stream",
     "text": [
      "1\n"
     ]
    },
    {
     "data": {
      "text/plain": [
       "[1, 2, 3, 'Python', True, 4]"
      ]
     },
     "execution_count": 8,
     "metadata": {},
     "output_type": "execute_result"
    }
   ],
   "source": [
    "lista = [1, 2, 3, \"Python\", True]\n",
    "print(lista[0])  # Acessa o primeiro elemento\n",
    "lista.append(4)  # Adiciona um elemento no final\n",
    "lista"
   ]
  },
  {
   "cell_type": "code",
   "execution_count": 9,
   "id": "e92cc505-5fe0-4ab2-a3fa-32e5e696733d",
   "metadata": {},
   "outputs": [
    {
     "name": "stdout",
     "output_type": "stream",
     "text": [
      "[2, 3]\n"
     ]
    }
   ],
   "source": [
    "lista = [1, 2, 3, 4, 5]\n",
    "sublista = lista[1:3]  # Retorna [2, 3]\n",
    "print(sublista)"
   ]
  },
  {
   "cell_type": "code",
   "execution_count": 10,
   "id": "4e1c90ee-b30b-4f1d-bbc4-fb8dfde31ee2",
   "metadata": {},
   "outputs": [
    {
     "name": "stdout",
     "output_type": "stream",
     "text": [
      "1\n",
      "2\n",
      "3\n",
      "4\n",
      "5\n"
     ]
    }
   ],
   "source": [
    "lista = [1, 2, 3, 4, 5]\n",
    "for elemento in lista:\n",
    "    print(elemento)"
   ]
  },
  {
   "cell_type": "code",
   "execution_count": 11,
   "id": "50ba2340-c14a-4ee6-97d7-78f3612c1c10",
   "metadata": {},
   "outputs": [
    {
     "name": "stdout",
     "output_type": "stream",
     "text": [
      "Ana\n"
     ]
    }
   ],
   "source": [
    "dicionario = {\"nome\": \"Ana\", \"idade\": 25}\n",
    "print(dicionario[\"nome\"])  # Acessa o valor da chave \"nome\""
   ]
  },
  {
   "cell_type": "code",
   "execution_count": 12,
   "id": "9a5139c6-da0b-40ba-a47b-7f0191ccaa95",
   "metadata": {},
   "outputs": [
    {
     "name": "stdout",
     "output_type": "stream",
     "text": [
      "nome: Ana\n",
      "idade: 25\n"
     ]
    }
   ],
   "source": [
    "dicionario = {\"nome\": \"Ana\", \"idade\": 25}\n",
    "for chave, valor in dicionario.items():\n",
    "    print(f\"{chave}: {valor}\")"
   ]
  },
  {
   "cell_type": "code",
   "execution_count": 13,
   "id": "2faf8887-22ee-4b81-b647-dd8caa51b6ed",
   "metadata": {},
   "outputs": [
    {
     "name": "stdout",
     "output_type": "stream",
     "text": [
      "10\n"
     ]
    }
   ],
   "source": [
    "a = 10\n",
    "b = a   # Cópia por valor\n",
    "b = 20\n",
    "print(a)  # Saída: 10"
   ]
  },
  {
   "cell_type": "code",
   "execution_count": 14,
   "id": "65210229-edb1-49a5-baff-dbc9ec1b79ff",
   "metadata": {},
   "outputs": [
    {
     "name": "stdout",
     "output_type": "stream",
     "text": [
      "[1, 2, 3, 4]\n"
     ]
    }
   ],
   "source": [
    "lista1 = [1, 2, 3]\n",
    "lista2 = lista1  # Cópia por referência\n",
    "lista2.append(4)\n",
    "print(lista1)    # Saída: [1, 2, 3, 4]"
   ]
  },
  {
   "cell_type": "code",
   "execution_count": 19,
   "id": "ee273f43-dd2f-44d3-a803-d83b675d8ada",
   "metadata": {},
   "outputs": [
    {
     "name": "stdout",
     "output_type": "stream",
     "text": [
      "[1, 2, 3, 4]\n",
      "[1, 2, 3]\n"
     ]
    }
   ],
   "source": [
    "import copy\n",
    "\n",
    "lista1 = [1, 2, 3]\n",
    "lista2 = copy.deepcopy(lista1)\n",
    "lista2.append(4)\n",
    "print(lista2)\n",
    "print(lista1)  # Saída: [1, 2, 3]\n"
   ]
  },
  {
   "cell_type": "code",
   "execution_count": 33,
   "id": "e837c8cc-ddf1-4951-9357-244b3767eab7",
   "metadata": {},
   "outputs": [
    {
     "name": "stdout",
     "output_type": "stream",
     "text": [
      "ana 10\n",
      "beatriz 15\n",
      "marta 35\n",
      "carol 40\n",
      "joao 45\n",
      "mario 25\n"
     ]
    }
   ],
   "source": [
    "with open('arquivo.txt', 'r') as f:\n",
    "    conteudo = f.read()\n",
    "    print(conteudo)"
   ]
  },
  {
   "cell_type": "code",
   "execution_count": 35,
   "id": "ad447686-bc61-47fa-b0e2-266902c820a8",
   "metadata": {},
   "outputs": [],
   "source": [
    "arq = open(\"arquivo.txt\", \"r\")\n",
    "arq.close()"
   ]
  },
  {
   "cell_type": "code",
   "execution_count": 38,
   "id": "0990feee-1c1f-44b1-94e1-20f04c73350f",
   "metadata": {},
   "outputs": [],
   "source": [
    "class Pessoa:\n",
    "    def __init__(self, nome, idade):\n",
    "        self.nome = nome\n",
    "        self.idade = idade\n",
    "\n",
    "    def saudacao(self):\n",
    "        print(f\"Olá, meu nome é {self.nome} e tenho {self.idade} anos.\")"
   ]
  },
  {
   "cell_type": "code",
   "execution_count": 40,
   "id": "da4ff74a-f70d-44d5-9d65-37151202dfb5",
   "metadata": {},
   "outputs": [
    {
     "name": "stdout",
     "output_type": "stream",
     "text": [
      "Olá, meu nome é Ana e tenho 30 anos.\n"
     ]
    }
   ],
   "source": [
    "p1 = Pessoa(\"Ana\", 30)\n",
    "p1.saudacao()  # Saída: Olá, meu nome é Ana e tenho 30 anos."
   ]
  },
  {
   "cell_type": "code",
   "execution_count": 42,
   "id": "e73235a6-9153-4a70-89d8-117504c47931",
   "metadata": {},
   "outputs": [],
   "source": [
    "class Estudante(Pessoa):\n",
    "    def __init__(self, nome, idade, curso):\n",
    "        super().__init__(nome, idade)\n",
    "        self.curso = curso\n",
    "\n",
    "    def saudacao(self):\n",
    "        super().saudacao()\n",
    "        print(f\"Eu estudo {self.curso}.\")"
   ]
  },
  {
   "cell_type": "code",
   "execution_count": 43,
   "id": "725fecbf-90cf-40e9-bfb6-56e5ae67a786",
   "metadata": {},
   "outputs": [
    {
     "name": "stdout",
     "output_type": "stream",
     "text": [
      "Olá, meu nome é Carlos e tenho 22 anos.\n",
      "Eu estudo Engenharia.\n"
     ]
    }
   ],
   "source": [
    "est = Estudante(\"Carlos\", 22, \"Engenharia\")\n",
    "est.saudacao()"
   ]
  },
  {
   "cell_type": "code",
   "execution_count": 44,
   "id": "6486f5de-70ec-4678-bc8e-47be7b24dcc8",
   "metadata": {},
   "outputs": [
    {
     "name": "stdout",
     "output_type": "stream",
     "text": [
      "8\n"
     ]
    }
   ],
   "source": [
    "soma = lambda a, b: a + b\n",
    "print(soma(5, 3))  # Saída: 8"
   ]
  },
  {
   "cell_type": "code",
   "execution_count": 45,
   "id": "8f0f794a-418a-4bdd-ad1b-7349af10fd98",
   "metadata": {},
   "outputs": [
    {
     "name": "stdout",
     "output_type": "stream",
     "text": [
      "[2, 4, 6]\n"
     ]
    }
   ],
   "source": [
    "numeros = [1, 2, 3, 4, 5, 6]\n",
    "pares = filter(lambda x: x % 2 == 0, numeros)\n",
    "print(list(pares))  # Saída: [2, 4, 6]"
   ]
  },
  {
   "cell_type": "code",
   "execution_count": 46,
   "id": "9d732041-1294-456f-879e-5043f048a417",
   "metadata": {},
   "outputs": [
    {
     "name": "stdout",
     "output_type": "stream",
     "text": [
      "[2, 4, 6, 8]\n"
     ]
    }
   ],
   "source": [
    "numeros = [1, 2, 3, 4]\n",
    "dobrados = list(map(lambda x: x * 2, numeros))\n",
    "print(dobrados)  # Saída: [2, 4, 6, 8]"
   ]
  },
  {
   "cell_type": "code",
   "execution_count": 47,
   "id": "526f011b-a4ec-4bb6-8c20-6b1454ce62d0",
   "metadata": {},
   "outputs": [
    {
     "name": "stdout",
     "output_type": "stream",
     "text": [
      "Executando algo antes da função\n",
      "Olá!\n",
      "Executando algo depois da função\n"
     ]
    }
   ],
   "source": [
    "def meu_decorador(func):\n",
    "    def wrapper():\n",
    "        print(\"Executando algo antes da função\")\n",
    "        func()\n",
    "        print(\"Executando algo depois da função\")\n",
    "    return wrapper\n",
    "\n",
    "@meu_decorador\n",
    "def diga_ola():\n",
    "    print(\"Olá!\")\n",
    "\n",
    "diga_ola()"
   ]
  },
  {
   "cell_type": "code",
   "execution_count": 51,
   "id": "3c35d274-55b9-4d73-9f82-7db05db26b28",
   "metadata": {},
   "outputs": [
    {
     "name": "stdout",
     "output_type": "stream",
     "text": [
      "Eu sou normal\n",
      "Fui decorado\n",
      "Eu sou normal\n"
     ]
    }
   ],
   "source": [
    "def embelezar(func):\n",
    "    def interno():\n",
    "        print(\"Fui decorado\")\n",
    "        func()\n",
    "    return interno\n",
    "def normal():\n",
    "    print(\"Eu sou normal\")\n",
    "normal() # Eu sou normal\n",
    "bonito = embelezar(normal)\n",
    "bonito() "
   ]
  },
  {
   "cell_type": "code",
   "execution_count": 52,
   "id": "37258b60-6166-4982-a703-48dc530a89a7",
   "metadata": {},
   "outputs": [
    {
     "name": "stdout",
     "output_type": "stream",
     "text": [
      "Fui decorado\n",
      "Eu sou normal também\n"
     ]
    }
   ],
   "source": [
    "@embelezar\n",
    "def normal():\n",
    "    print(\"Eu sou normal também\")\n",
    "normal()\n",
    "# Fui decorado\n",
    "# Eu sou normal também"
   ]
  },
  {
   "cell_type": "code",
   "execution_count": null,
   "id": "1c1b20ae-a069-4025-a294-257a8aa2fae7",
   "metadata": {},
   "outputs": [],
   "source": []
  }
 ],
 "metadata": {
  "kernelspec": {
   "display_name": "Python 3 (ipykernel)",
   "language": "python",
   "name": "python3"
  },
  "language_info": {
   "codemirror_mode": {
    "name": "ipython",
    "version": 3
   },
   "file_extension": ".py",
   "mimetype": "text/x-python",
   "name": "python",
   "nbconvert_exporter": "python",
   "pygments_lexer": "ipython3",
   "version": "3.10.12"
  }
 },
 "nbformat": 4,
 "nbformat_minor": 5
}
